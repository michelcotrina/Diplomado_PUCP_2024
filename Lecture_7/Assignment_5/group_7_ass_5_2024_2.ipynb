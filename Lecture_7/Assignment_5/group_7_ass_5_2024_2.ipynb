{
 "cells": [
  {
   "cell_type": "markdown",
   "metadata": {},
   "source": [
    "# Assignment 5 - Issue #854"
   ]
  },
  {
   "cell_type": "markdown",
   "metadata": {},
   "source": [
    "Fernando Mendoza | Adrea Pezo | Michel Cotrina | Estefanny Gil | Armando Ore"
   ]
  },
  {
   "cell_type": "markdown",
   "metadata": {},
   "source": [
    "The script should not give an error. Any mistake will be consider as 0.\n",
    "<br>We want an excel file with all the available presidential elections in this webpage.\n",
    "https://infogob.jne.gob.pe/Eleccion\n",
    "<br>The final excel should have these 3 columns \n",
    "(Elecciones | ORGANIZACIÓN POLÍTICA | TOTAL VOTOS)"
   ]
  },
  {
   "cell_type": "code",
   "execution_count": 26,
   "metadata": {
    "scrolled": true
   },
   "outputs": [
    {
     "name": "stdout",
     "output_type": "stream",
     "text": [
      "Requirement already satisfied: openpyxl in c:\\users\\lenovo\\anaconda3\\lib\\site-packages (3.0.10)\n",
      "Requirement already satisfied: et_xmlfile in c:\\users\\lenovo\\anaconda3\\lib\\site-packages (from openpyxl) (1.1.0)\n"
     ]
    }
   ],
   "source": [
    "#!pip install selenium\n",
    "#!pip install webdriver-manager\n",
    "#!pip install openpyxl"
   ]
  },
  {
   "cell_type": "markdown",
   "metadata": {},
   "source": [
    "# Run the code line depending on the internet browser you are using (Chrome or Firefox)"
   ]
  },
  {
   "cell_type": "markdown",
   "metadata": {},
   "source": [
    "## a. Setup for Chrome only"
   ]
  },
  {
   "cell_type": "code",
   "execution_count": 5,
   "metadata": {
    "scrolled": true
   },
   "outputs": [],
   "source": [
    "from selenium import webdriver\n",
    "\n",
    "from selenium.webdriver.chrome.service import Service\n",
    "from webdriver_manager.chrome import ChromeDriverManager\n",
    "\n",
    "from selenium.webdriver.support.ui import Select\n",
    "from selenium.webdriver.common.keys import Keys\n",
    "from selenium.webdriver.common.by import By\n",
    "\n",
    "from selenium.webdriver.support.ui import WebDriverWait\n",
    "from selenium.webdriver.support import expected_conditions as EC\n",
    "from selenium.webdriver.common.by import By\n",
    "\n",
    "import re\n",
    "import time \n",
    "import pandas as pd\n",
    "from openpyxl import load_workbook\n",
    "\n",
    "# Path for google Chrome\n",
    "chrome_driver_path = r'chromedriver-win64/chromedriver.exe'\n",
    "# Configue the service for google chrome\n",
    "service = Service(executable_path=chrome_driver_path)\n",
    "# Start the WebDriver for google chrome\n",
    "driver = webdriver.Chrome(service=service)"
   ]
  },
  {
   "cell_type": "markdown",
   "metadata": {
    "jp-MarkdownHeadingCollapsed": true
   },
   "source": [
    "## b. Setup for FireFox only"
   ]
  },
  {
   "cell_type": "code",
   "execution_count": 36,
   "metadata": {},
   "outputs": [],
   "source": [
    "from selenium import webdriver\n",
    "from selenium.webdriver.firefox.service import Service as FirefoxService\n",
    "from webdriver_manager.firefox import GeckoDriverManager\n",
    "\n",
    "from selenium.webdriver.support.ui import Select\n",
    "from selenium.webdriver.common.keys import Keys\n",
    "from selenium.webdriver.common.by import By\n",
    "\n",
    "from selenium.webdriver.support.ui import WebDriverWait\n",
    "from selenium.webdriver.support import expected_conditions as EC\n",
    "from selenium.webdriver.common.by import By\n",
    "\n",
    "import re\n",
    "import time \n",
    "import pandas as pd\n",
    "from openpyxl import load_workbook\n",
    "\n",
    "# Path for geckodriver (Firefox)\n",
    "gecko_driver_path = r'geckodriver-v0.34.0-win64\\geckodriver.exe'\n",
    "\n",
    "# Configure the service for Firefox\n",
    "service = FirefoxService(executable_path=gecko_driver_path)\n",
    "\n",
    "# Start the WebDriver for Firefox\n",
    "driver = webdriver.Firefox(service=service)\n"
   ]
  },
  {
   "cell_type": "markdown",
   "metadata": {},
   "source": [
    "# 3. Iteration"
   ]
  },
  {
   "cell_type": "code",
   "execution_count": 7,
   "metadata": {},
   "outputs": [],
   "source": [
    "# Maximize window\n",
    "driver.maximize_window()\n",
    "\n",
    "# Base URL for the web scraping. Open a new window\n",
    "url_base = \"https://infogob.jne.gob.pe/Eleccion\"\n",
    "driver.get(url_base)"
   ]
  },
  {
   "cell_type": "code",
   "execution_count": 9,
   "metadata": {
    "scrolled": true
   },
   "outputs": [
    {
     "name": "stdout",
     "output_type": "stream",
     "text": [
      "Nombre de la elección: \n"
     ]
    },
    {
     "ename": "ElementNotInteractableException",
     "evalue": "Message: element not interactable\n  (Session info: chrome=128.0.6613.138)\nStacktrace:\n\tGetHandleVerifier [0x00007FF7E0999642+30946]\n\t(No symbol) [0x00007FF7E094E3D9]\n\t(No symbol) [0x00007FF7E0846E09]\n\t(No symbol) [0x00007FF7E0899712]\n\t(No symbol) [0x00007FF7E088C271]\n\t(No symbol) [0x00007FF7E08BCA6A]\n\t(No symbol) [0x00007FF7E088BBB6]\n\t(No symbol) [0x00007FF7E08BCC80]\n\t(No symbol) [0x00007FF7E08DB041]\n\t(No symbol) [0x00007FF7E08BC813]\n\t(No symbol) [0x00007FF7E088A6E5]\n\t(No symbol) [0x00007FF7E088B021]\n\tGetHandleVerifier [0x00007FF7E0ACF84D+1301229]\n\tGetHandleVerifier [0x00007FF7E0ADBDC7+1351783]\n\tGetHandleVerifier [0x00007FF7E0AD2A13+1313971]\n\tGetHandleVerifier [0x00007FF7E09CDD16+245686]\n\t(No symbol) [0x00007FF7E095759F]\n\t(No symbol) [0x00007FF7E0953814]\n\t(No symbol) [0x00007FF7E09539A2]\n\t(No symbol) [0x00007FF7E094A3FF]\n\tBaseThreadInitThunk [0x00007FFDC005257D+29]\n\tRtlUserThreadStart [0x00007FFDC152AF28+40]\n",
     "output_type": "error",
     "traceback": [
      "\u001b[1;31m---------------------------------------------------------------------------\u001b[0m",
      "\u001b[1;31mElementNotInteractableException\u001b[0m           Traceback (most recent call last)",
      "Cell \u001b[1;32mIn[9], line 23\u001b[0m\n\u001b[0;32m     21\u001b[0m eleccion_name \u001b[38;5;241m=\u001b[39m election_1\u001b[38;5;241m.\u001b[39mtext\n\u001b[0;32m     22\u001b[0m \u001b[38;5;28mprint\u001b[39m(\u001b[38;5;124mf\u001b[39m\u001b[38;5;124m'\u001b[39m\u001b[38;5;124mNombre de la elección: \u001b[39m\u001b[38;5;132;01m{\u001b[39;00meleccion_name\u001b[38;5;132;01m}\u001b[39;00m\u001b[38;5;124m'\u001b[39m)  \u001b[38;5;66;03m# Verificatiión\u001b[39;00m\n\u001b[1;32m---> 23\u001b[0m election_1\u001b[38;5;241m.\u001b[39mclick()\n\u001b[0;32m     24\u001b[0m time\u001b[38;5;241m.\u001b[39msleep(\u001b[38;5;241m1\u001b[39m)\n\u001b[0;32m     25\u001b[0m \u001b[38;5;66;03m# Click in \"Ver datos de la eleccion\"\u001b[39;00m\n",
      "File \u001b[1;32m~\\anaconda3\\Lib\\site-packages\\selenium\\webdriver\\remote\\webelement.py:94\u001b[0m, in \u001b[0;36mWebElement.click\u001b[1;34m(self)\u001b[0m\n\u001b[0;32m     92\u001b[0m \u001b[38;5;28;01mdef\u001b[39;00m \u001b[38;5;21mclick\u001b[39m(\u001b[38;5;28mself\u001b[39m) \u001b[38;5;241m-\u001b[39m\u001b[38;5;241m>\u001b[39m \u001b[38;5;28;01mNone\u001b[39;00m:\n\u001b[0;32m     93\u001b[0m \u001b[38;5;250m    \u001b[39m\u001b[38;5;124;03m\"\"\"Clicks the element.\"\"\"\u001b[39;00m\n\u001b[1;32m---> 94\u001b[0m     \u001b[38;5;28mself\u001b[39m\u001b[38;5;241m.\u001b[39m_execute(Command\u001b[38;5;241m.\u001b[39mCLICK_ELEMENT)\n",
      "File \u001b[1;32m~\\anaconda3\\Lib\\site-packages\\selenium\\webdriver\\remote\\webelement.py:395\u001b[0m, in \u001b[0;36mWebElement._execute\u001b[1;34m(self, command, params)\u001b[0m\n\u001b[0;32m    393\u001b[0m     params \u001b[38;5;241m=\u001b[39m {}\n\u001b[0;32m    394\u001b[0m params[\u001b[38;5;124m\"\u001b[39m\u001b[38;5;124mid\u001b[39m\u001b[38;5;124m\"\u001b[39m] \u001b[38;5;241m=\u001b[39m \u001b[38;5;28mself\u001b[39m\u001b[38;5;241m.\u001b[39m_id\n\u001b[1;32m--> 395\u001b[0m \u001b[38;5;28;01mreturn\u001b[39;00m \u001b[38;5;28mself\u001b[39m\u001b[38;5;241m.\u001b[39m_parent\u001b[38;5;241m.\u001b[39mexecute(command, params)\n",
      "File \u001b[1;32m~\\anaconda3\\Lib\\site-packages\\selenium\\webdriver\\remote\\webdriver.py:354\u001b[0m, in \u001b[0;36mWebDriver.execute\u001b[1;34m(self, driver_command, params)\u001b[0m\n\u001b[0;32m    352\u001b[0m response \u001b[38;5;241m=\u001b[39m \u001b[38;5;28mself\u001b[39m\u001b[38;5;241m.\u001b[39mcommand_executor\u001b[38;5;241m.\u001b[39mexecute(driver_command, params)\n\u001b[0;32m    353\u001b[0m \u001b[38;5;28;01mif\u001b[39;00m response:\n\u001b[1;32m--> 354\u001b[0m     \u001b[38;5;28mself\u001b[39m\u001b[38;5;241m.\u001b[39merror_handler\u001b[38;5;241m.\u001b[39mcheck_response(response)\n\u001b[0;32m    355\u001b[0m     response[\u001b[38;5;124m\"\u001b[39m\u001b[38;5;124mvalue\u001b[39m\u001b[38;5;124m\"\u001b[39m] \u001b[38;5;241m=\u001b[39m \u001b[38;5;28mself\u001b[39m\u001b[38;5;241m.\u001b[39m_unwrap_value(response\u001b[38;5;241m.\u001b[39mget(\u001b[38;5;124m\"\u001b[39m\u001b[38;5;124mvalue\u001b[39m\u001b[38;5;124m\"\u001b[39m, \u001b[38;5;28;01mNone\u001b[39;00m))\n\u001b[0;32m    356\u001b[0m     \u001b[38;5;28;01mreturn\u001b[39;00m response\n",
      "File \u001b[1;32m~\\anaconda3\\Lib\\site-packages\\selenium\\webdriver\\remote\\errorhandler.py:229\u001b[0m, in \u001b[0;36mErrorHandler.check_response\u001b[1;34m(self, response)\u001b[0m\n\u001b[0;32m    227\u001b[0m         alert_text \u001b[38;5;241m=\u001b[39m value[\u001b[38;5;124m\"\u001b[39m\u001b[38;5;124malert\u001b[39m\u001b[38;5;124m\"\u001b[39m]\u001b[38;5;241m.\u001b[39mget(\u001b[38;5;124m\"\u001b[39m\u001b[38;5;124mtext\u001b[39m\u001b[38;5;124m\"\u001b[39m)\n\u001b[0;32m    228\u001b[0m     \u001b[38;5;28;01mraise\u001b[39;00m exception_class(message, screen, stacktrace, alert_text)  \u001b[38;5;66;03m# type: ignore[call-arg]  # mypy is not smart enough here\u001b[39;00m\n\u001b[1;32m--> 229\u001b[0m \u001b[38;5;28;01mraise\u001b[39;00m exception_class(message, screen, stacktrace)\n",
      "\u001b[1;31mElementNotInteractableException\u001b[0m: Message: element not interactable\n  (Session info: chrome=128.0.6613.138)\nStacktrace:\n\tGetHandleVerifier [0x00007FF7E0999642+30946]\n\t(No symbol) [0x00007FF7E094E3D9]\n\t(No symbol) [0x00007FF7E0846E09]\n\t(No symbol) [0x00007FF7E0899712]\n\t(No symbol) [0x00007FF7E088C271]\n\t(No symbol) [0x00007FF7E08BCA6A]\n\t(No symbol) [0x00007FF7E088BBB6]\n\t(No symbol) [0x00007FF7E08BCC80]\n\t(No symbol) [0x00007FF7E08DB041]\n\t(No symbol) [0x00007FF7E08BC813]\n\t(No symbol) [0x00007FF7E088A6E5]\n\t(No symbol) [0x00007FF7E088B021]\n\tGetHandleVerifier [0x00007FF7E0ACF84D+1301229]\n\tGetHandleVerifier [0x00007FF7E0ADBDC7+1351783]\n\tGetHandleVerifier [0x00007FF7E0AD2A13+1313971]\n\tGetHandleVerifier [0x00007FF7E09CDD16+245686]\n\t(No symbol) [0x00007FF7E095759F]\n\t(No symbol) [0x00007FF7E0953814]\n\t(No symbol) [0x00007FF7E09539A2]\n\t(No symbol) [0x00007FF7E094A3FF]\n\tBaseThreadInitThunk [0x00007FFDC005257D+29]\n\tRtlUserThreadStart [0x00007FFDC152AF28+40]\n"
     ]
    }
   ],
   "source": [
    "dataframes_list = []\n",
    "\n",
    "url_base = \"https://infogob.jne.gob.pe/Eleccion\"\n",
    "# Prepare iteration for all options in \"Eleccion\"\n",
    "for number in range(2, 27):\n",
    "    #First, we go to the website and display dropdown \"Tipo de proceso\"\n",
    "    driver.get(url_base)\n",
    "    proceso = driver.find_element(By.XPATH,'/html/body/div[1]/section/div[2]/div[2]/div[2]/div[1]/div')\n",
    "    proceso.click()\n",
    "    time.sleep(1)\n",
    "    # Then select \"Elecciones Presidenciales\"\n",
    "    presidenciales = driver.find_element(By.XPATH,'/html/body/div[1]/section/div[2]/div[2]/div[2]/div[1]/div/div[2]/div[2]')\n",
    "    presidenciales.click()\n",
    "    time.sleep(1)\n",
    "    # Then display dropdown \"Eleccion\"\n",
    "    eleccion=driver.find_element(By.XPATH,'/html/body/div[1]/section/div[2]/div[2]/div[2]/div[2]/div')\n",
    "    eleccion.click()\n",
    "    time.sleep(1)\n",
    "    # Then select an option in \"Eleccion\" for the iteration\n",
    "    election_1 = driver.find_element(By.XPATH,'/html/body/div[1]/section/div[2]/div[2]/div[2]/div[2]/div/div[2]/div[{}]'.format(number))\n",
    "    eleccion_name = election_1.text\n",
    "    print(f'Nombre de la elección: {eleccion_name}')  # Verificatiión\n",
    "    election_1.click()\n",
    "    time.sleep(1)\n",
    "    # Click in \"Ver datos de la eleccion\"\n",
    "    ver_datos = driver.find_element(By.XPATH,'/html/body/div[1]/section/div[2]/div[2]/div[3]/div/button')\n",
    "    ver_datos.click()\n",
    "    time.sleep(2)\n",
    "    # Then click on tab \"Candidatos y Resultados\"\n",
    "    resultado = driver.find_element(By.XPATH,'/html/body/div[1]/section/div[2]/div[3]/div[1]/ul/li[2]/a')\n",
    "    resultado.click()\n",
    "    time.sleep(1)\n",
    "    # Extract information in table\n",
    "    table_path = driver.find_element(By.ID,'gridEleccionResultadosElectorales')\n",
    "    table_html = table_path.get_attribute('innerHTML')\n",
    "\n",
    "    # Create headers to avoid issues with read_html\n",
    "    head = \"<table id=\\\"gridEleccionResultadosElectorales\\\" class=\\\"table table-hover table-striped\\\">\"\n",
    "    table_new = head + table_html[21:-1]\n",
    "    table = pd.read_html(table_new)\n",
    "    table_clean = table[0].iloc[:, :]\n",
    "    table_clean = table_clean.loc[:, ['ORGANIZACIÓN POLÍTICA', 'TOTAL VOTOS']]\n",
    "\n",
    "    # Insert the election name into the first column\n",
    "    table_clean.insert(0, 'Elecciones', eleccion_name)\n",
    "    print(table_clean.head())  # Verificación adicional\n",
    "\n",
    "    # Add the cleaned DataFrame to the list\n",
    "    dataframes_list.append(table_clean)"
   ]
  },
  {
   "cell_type": "code",
   "execution_count": 38,
   "metadata": {
    "scrolled": true
   },
   "outputs": [],
   "source": [
    "# TTransform the list of DataFrames into a single DataFrame\n",
    "df_vote = pd.concat(dataframes_list, ignore_index=True)"
   ]
  },
  {
   "cell_type": "code",
   "execution_count": 40,
   "metadata": {},
   "outputs": [],
   "source": [
    "# Save the result and export it to an Excel file with the group name\n",
    "file_name = 'group_7_ass_5_2024_2.xlsx'\n",
    "df_vote.to_excel(file_name, index=False)\n",
    "\n",
    "# Load the Excel file\n",
    "workbook = load_workbook(file_name)\n",
    "worksheet = workbook.active\n",
    "\n",
    "# Adjust the width of the first three columns\n",
    "for col in ['A', 'B', 'C']:\n",
    "    worksheet.column_dimensions[col].width = 30\n",
    "\n",
    "# Save the changes to the Excel file\n",
    "workbook.save(file_name)"
   ]
  }
 ],
 "metadata": {
  "hide_input": false,
  "kernelspec": {
   "display_name": "Python 3 (ipykernel)",
   "language": "python",
   "name": "python3"
  },
  "language_info": {
   "codemirror_mode": {
    "name": "ipython",
    "version": 3
   },
   "file_extension": ".py",
   "mimetype": "text/x-python",
   "name": "python",
   "nbconvert_exporter": "python",
   "pygments_lexer": "ipython3",
   "version": "3.12.4"
  },
  "toc": {
   "base_numbering": 1,
   "nav_menu": {},
   "number_sections": true,
   "sideBar": true,
   "skip_h1_title": false,
   "title_cell": "Table of Contents",
   "title_sidebar": "Contents",
   "toc_cell": false,
   "toc_position": {},
   "toc_section_display": true,
   "toc_window_display": false
  }
 },
 "nbformat": 4,
 "nbformat_minor": 4
}
