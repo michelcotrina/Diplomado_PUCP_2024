{
 "cells": [
  {
   "cell_type": "markdown",
   "id": "908c3377-e8ff-4a34-8c88-38eca3a1dcec",
   "metadata": {},
   "source": [
    "## 1. Installing Libraries\n",
    "We need to install these two libraries"
   ]
  },
  {
   "cell_type": "code",
   "execution_count": null,
   "id": "90427e8b-a51a-46dc-8e69-2e6b3042cda5",
   "metadata": {},
   "outputs": [],
   "source": [
    "!pip install selenium\n",
    "#!pip install webdriver-manager"
   ]
  },
  {
   "cell_type": "markdown",
   "id": "d323a583-4f87-4b73-8417-ab4160b20339",
   "metadata": {},
   "source": [
    "## 2. Calling Libraries"
   ]
  },
  {
   "cell_type": "code",
   "execution_count": 27,
   "id": "07a00816-900c-43c3-8258-d9ace82df5ba",
   "metadata": {},
   "outputs": [],
   "source": [
    "from selenium import webdriver\n",
    "from webdriver_manager.chrome import ChromeDriverManager"
   ]
  },
  {
   "cell_type": "code",
   "execution_count": 60,
   "id": "d52b6d8e-7e89-49f9-9c0d-83a43c3cb7d4",
   "metadata": {},
   "outputs": [],
   "source": [
    "from selenium import webdriver\n",
    "from selenium.webdriver.chrome.service import Service\n",
    "from webdriver_manager.chrome import ChromeDriverManager\n",
    "\n",
    "from selenium.webdriver.support.ui import Select\n",
    "from selenium.webdriver.common.keys import Keys\n",
    "from selenium.webdriver.common.by import By\n",
    "\n",
    "from selenium.webdriver.support.ui import WebDriverWait\n",
    "from selenium.webdriver.support import expected_conditions as EC\n",
    "\n",
    "import re\n",
    "import time\n",
    "import pandas as pd\n",
    "from openpyxl import load_workbook"
   ]
  },
  {
   "cell_type": "markdown",
   "id": "81c4c037-f578-46f6-885b-9eaabdc14e19",
   "metadata": {},
   "source": [
    "## 3. Launch/Set the Driver\n",
    "This code opens a Chrome Driver. We are going to use it to go navigate on the web."
   ]
  },
  {
   "cell_type": "code",
   "execution_count": 160,
   "id": "78447d1f-44a0-45d0-9679-49bb05fcbc6f",
   "metadata": {},
   "outputs": [
    {
     "data": {
      "text/plain": [
       "<selenium.webdriver.chrome.webdriver.WebDriver (session=\"8cd846dcea38e2ff0351106b74c31419\")>"
      ]
     },
     "execution_count": 160,
     "metadata": {},
     "output_type": "execute_result"
    }
   ],
   "source": [
    "# Initialize the Chrome WebDriver with ChromeDriverManager\n",
    "driver = webdriver.Chrome(service=webdriver.chrome.service.Service(ChromeDriverManager().install()))\n",
    "driver"
   ]
  },
  {
   "cell_type": "markdown",
   "id": "c0bff958-176e-41c5-b007-d3ee6ba4d7e5",
   "metadata": {},
   "source": [
    "## Ingresar a Instagram e iniciar sesión"
   ]
  },
  {
   "cell_type": "code",
   "execution_count": 162,
   "id": "0ef3ba59-fdd7-44d5-bd53-f6a085ba3a49",
   "metadata": {},
   "outputs": [],
   "source": [
    "driver.maximize_window()\n",
    "url = 'https://www.instagram.com/accounts/login/'\n",
    "driver.get( url )"
   ]
  },
  {
   "cell_type": "code",
   "execution_count": 164,
   "id": "347fca48-1478-428d-8954-a0eca154d1b2",
   "metadata": {},
   "outputs": [],
   "source": [
    "proceso = driver.find_element(By.XPATH,'/html/body/div[2]/div/div/div[2]/div/div/div[1]/div[1]/div/section/main/div/div/div[1]/div[2]/div/form/div/div[1]/div/label')\n",
    "proceso.click()\n",
    "proceso.send_keys(\"michel_cotrina\")"
   ]
  },
  {
   "cell_type": "code",
   "execution_count": 166,
   "id": "02e8f70c-52cd-4b06-8dc4-36de981cdcd4",
   "metadata": {},
   "outputs": [],
   "source": [
    "proceso2 = driver.find_element(By.XPATH,'/html/body/div[2]/div/div/div[2]/div/div/div[1]/div[1]/div/section/main/div/div/div[1]/div[2]/div/form/div/div[2]/div/label')\n",
    "proceso2.click()\n",
    "proceso2.send_keys(\"06cerdaN:v\")"
   ]
  },
  {
   "cell_type": "code",
   "execution_count": 168,
   "id": "01442dcf-d8f2-4d8a-bd1a-60f3d9fed785",
   "metadata": {},
   "outputs": [],
   "source": [
    "proceso3 = driver.find_element(By.XPATH,'/html/body/div[2]/div/div/div[2]/div/div/div[1]/div[1]/div/section/main/div/div/div[1]/div[2]/div/form/div/div[3]/button/div')\n",
    "proceso3.click()"
   ]
  },
  {
   "cell_type": "markdown",
   "id": "13b84829-b3eb-4e1b-8cac-ac358715cbb8",
   "metadata": {},
   "source": [
    "## Proceso 4: Ver los seguidores de la cuenta"
   ]
  },
  {
   "cell_type": "code",
   "execution_count": 265,
   "id": "0b33faf1-430b-493c-8ec1-f4d751816551",
   "metadata": {},
   "outputs": [],
   "source": [
    "url_2 = \"https://www.instagram.com/agaveperu/\"\n",
    "driver.get( url_2 )"
   ]
  },
  {
   "cell_type": "code",
   "execution_count": 220,
   "id": "53875958-0bd9-498a-a6e1-9faca8982c88",
   "metadata": {},
   "outputs": [],
   "source": [
    "proceso4 = driver.find_element(By.XPATH,'/html/body/div[2]/div/div/div[2]/div/div/div[1]/div[2]/div/div[1]/section/main/div/header/section[3]/ul/li[2]/div')\n",
    "proceso4.click()"
   ]
  },
  {
   "cell_type": "code",
   "execution_count": 275,
   "id": "76b6f3f8-1e10-4fb1-bbb2-6ded8be43e39",
   "metadata": {},
   "outputs": [],
   "source": [
    "# Hacer clic en el botón de seguidores\n",
    "proceso4 = WebDriverWait(driver, 10).until(EC.presence_of_element_located(\n",
    "    (By.XPATH, '//ul/li[2]//a[contains(@href, \"/followers/\")]')))\n",
    "proceso4.click()\n",
    "\n",
    "scrolldown = driver.execute_script(\n",
    "    \"window.scrollTo(0, document.body.scrollHeight);var scrolldown=document.body.scrollHeight;return scrolldown;\")\n",
    "match = False\n",
    "while (match == False):\n",
    "    last_count = scrolldown\n",
    "    time.sleep(3)\n",
    "    scrolldown = driver.execute_script(\n",
    "        \"window.scrollTo(0, document.body.scrollHeight);var scrolldown=document.body.scrollHeight;return scrolldown;\")\n",
    "    if last_count == scrolldown:\n",
    "        match = True"
   ]
  },
  {
   "cell_type": "code",
   "execution_count": 277,
   "id": "7e76c935-b9eb-4376-ad3e-2bd7cc321086",
   "metadata": {},
   "outputs": [
    {
     "ename": "NameError",
     "evalue": "name 'followers_popup' is not defined",
     "output_type": "error",
     "traceback": [
      "\u001b[1;31m---------------------------------------------------------------------------\u001b[0m",
      "\u001b[1;31mNameError\u001b[0m                                 Traceback (most recent call last)",
      "Cell \u001b[1;32mIn[277], line 2\u001b[0m\n\u001b[0;32m      1\u001b[0m \u001b[38;5;66;03m# Definir el contenedor de la lista de seguidores\u001b[39;00m\n\u001b[1;32m----> 2\u001b[0m followers_list \u001b[38;5;241m=\u001b[39m followers_popup\u001b[38;5;241m.\u001b[39mfind_element(By\u001b[38;5;241m.\u001b[39mTAG_NAME, \u001b[38;5;124m'\u001b[39m\u001b[38;5;124mul\u001b[39m\u001b[38;5;124m'\u001b[39m)\n\u001b[0;32m      4\u001b[0m \u001b[38;5;66;03m# Inicializar el contador para desplazamiento\u001b[39;00m\n\u001b[0;32m      5\u001b[0m prev_height \u001b[38;5;241m=\u001b[39m driver\u001b[38;5;241m.\u001b[39mexecute_script(\u001b[38;5;124m\"\u001b[39m\u001b[38;5;124mreturn arguments[0].scrollHeight\u001b[39m\u001b[38;5;124m\"\u001b[39m, followers_list)\n",
      "\u001b[1;31mNameError\u001b[0m: name 'followers_popup' is not defined"
     ]
    }
   ],
   "source": [
    "# Definir el contenedor de la lista de seguidores\n",
    "followers_list = followers_popup.find_element(By.TAG_NAME, 'ul')\n",
    "\n",
    "# Inicializar el contador para desplazamiento\n",
    "prev_height = driver.execute_script(\"return arguments[0].scrollHeight\", followers_list)\n",
    "\n",
    "# Bucle para desplazarse hasta que no se carguen más seguidores\n",
    "while True:\n",
    "    # Desplazar hacia abajo en la ventana de seguidores\n",
    "    driver.execute_script(\"arguments[0].scrollTop = arguments[0].scrollHeight\", followers_list)\n",
    "    \n",
    "    # Esperar un poco para que se carguen más seguidores\n",
    "    time.sleep(2)\n",
    "\n",
    "    # Obtener la nueva altura después del desplazamiento\n",
    "    new_height = driver.execute_script(\"return arguments[0].scrollHeight\", followers_list)\n",
    "    \n",
    "    # Salir del bucle si no se cargan más seguidores\n",
    "    if new_height == prev_height:\n",
    "        break\n",
    "    prev_height = new_height"
   ]
  },
  {
   "cell_type": "code",
   "execution_count": 260,
   "id": "f184cb59-1838-4dfc-a413-40fbfd5ede69",
   "metadata": {},
   "outputs": [
    {
     "ename": "KeyboardInterrupt",
     "evalue": "",
     "output_type": "error",
     "traceback": [
      "\u001b[1;31m---------------------------------------------------------------------------\u001b[0m",
      "\u001b[1;31mKeyboardInterrupt\u001b[0m                         Traceback (most recent call last)",
      "Cell \u001b[1;32mIn[260], line 7\u001b[0m\n\u001b[0;32m      5\u001b[0m last_height \u001b[38;5;241m=\u001b[39m driver\u001b[38;5;241m.\u001b[39mexecute_script(\u001b[38;5;124m\"\u001b[39m\u001b[38;5;124mreturn arguments[0].scrollHeight\u001b[39m\u001b[38;5;124m\"\u001b[39m, scroll_box)\n\u001b[0;32m      6\u001b[0m driver\u001b[38;5;241m.\u001b[39mexecute_script(\u001b[38;5;124m\"\u001b[39m\u001b[38;5;124marguments[0].scrollTop = arguments[0].scrollHeight\u001b[39m\u001b[38;5;124m\"\u001b[39m, scroll_box)\n\u001b[1;32m----> 7\u001b[0m time\u001b[38;5;241m.\u001b[39msleep(\u001b[38;5;241m2\u001b[39m)\n\u001b[0;32m      8\u001b[0m new_height \u001b[38;5;241m=\u001b[39m driver\u001b[38;5;241m.\u001b[39mexecute_script(\u001b[38;5;124m\"\u001b[39m\u001b[38;5;124mreturn arguments[0].scrollHeight\u001b[39m\u001b[38;5;124m\"\u001b[39m, scroll_box)\n",
      "\u001b[1;31mKeyboardInterrupt\u001b[0m: "
     ]
    }
   ],
   "source": [
    "scroll_box = driver.find_element(By.XPATH,'/html/body/div[7]/div[2]/div/div/div[1]/div/div[2]/div/div/div/div/div[2]/div/div/div[3]')\n",
    "last_height, new_height = 0, 1\n",
    "\n",
    "while new_height != last_height:\n",
    "    last_height = driver.execute_script(\"return arguments[0].scrollHeight\", scroll_box)\n",
    "    driver.execute_script(\"arguments[0].scrollTop = arguments[0].scrollHeight\", scroll_box)\n",
    "    time.sleep(2)\n",
    "    new_height = driver.execute_script(\"return arguments[0].scrollHeight\", scroll_box)"
   ]
  },
  {
   "cell_type": "markdown",
   "id": "e444a2bb-114f-43f6-a403-8305f66cf23a",
   "metadata": {},
   "source": [
    "## Sacar links de los posts"
   ]
  },
  {
   "cell_type": "code",
   "execution_count": 263,
   "id": "0ad8ed1f-1f42-4f94-b38b-9ceb30e64fbb",
   "metadata": {},
   "outputs": [],
   "source": [
    "# Scroll\n",
    "scrolldown = driver.execute_script(\n",
    "    \"window.scrollTo(0, document.body.scrollHeight);var scrolldown=document.body.scrollHeight;return scrolldown;\")\n",
    "match = False\n",
    "while (match == False):\n",
    "    last_count = scrolldown\n",
    "    time.sleep(3)\n",
    "    scrolldown = driver.execute_script(\n",
    "        \"window.scrollTo(0, document.body.scrollHeight);var scrolldown=document.body.scrollHeight;return scrolldown;\")\n",
    "    if last_count == scrolldown:\n",
    "        match = True\n",
    "posts = []\n",
    "links = driver.find_elements(\"tag name\", \"a\")\n",
    "for link in links:\n",
    "    post = link.get_attribute('href')\n",
    "    if '/p/' in post:\n",
    "        posts.append(post)"
   ]
  },
  {
   "cell_type": "code",
   "execution_count": 289,
   "id": "4378c1cb-cc9e-4497-a93f-393bf228abf0",
   "metadata": {},
   "outputs": [
    {
     "name": "stdout",
     "output_type": "stream",
     "text": [
      "Requirement already satisfied: instabot in c:\\users\\mcotrina\\anaconda3\\lib\\site-packages (0.117.0)\n",
      "Requirement already satisfied: certifi>=2019.11.28 in c:\\users\\mcotrina\\anaconda3\\lib\\site-packages (from instabot) (2024.7.4)\n",
      "Requirement already satisfied: chardet>=3.0.4 in c:\\users\\mcotrina\\anaconda3\\lib\\site-packages (from instabot) (4.0.0)\n",
      "Requirement already satisfied: future>=0.18.2 in c:\\users\\mcotrina\\anaconda3\\lib\\site-packages (from instabot) (1.0.0)\n",
      "Requirement already satisfied: huepy>=1.2.1 in c:\\users\\mcotrina\\anaconda3\\lib\\site-packages (from instabot) (1.2.1)\n",
      "Requirement already satisfied: idna>=2.8 in c:\\users\\mcotrina\\anaconda3\\lib\\site-packages (from instabot) (3.7)\n",
      "Requirement already satisfied: pysocks>=1.7.1 in c:\\users\\mcotrina\\anaconda3\\lib\\site-packages (from instabot) (1.7.1)\n",
      "Requirement already satisfied: pytz>=2019.3 in c:\\users\\mcotrina\\anaconda3\\lib\\site-packages (from instabot) (2024.1)\n",
      "Requirement already satisfied: requests>=2.22.0 in c:\\users\\mcotrina\\anaconda3\\lib\\site-packages (from instabot) (2.32.2)\n",
      "Requirement already satisfied: requests-toolbelt>=0.9.1 in c:\\users\\mcotrina\\anaconda3\\lib\\site-packages (from instabot) (1.0.0)\n",
      "Requirement already satisfied: responses>=0.10.9 in c:\\users\\mcotrina\\anaconda3\\lib\\site-packages (from instabot) (0.25.3)\n",
      "Requirement already satisfied: schedule>=0.6.0 in c:\\users\\mcotrina\\anaconda3\\lib\\site-packages (from instabot) (1.2.2)\n",
      "Requirement already satisfied: six>=1.14.0 in c:\\users\\mcotrina\\anaconda3\\lib\\site-packages (from instabot) (1.16.0)\n",
      "Requirement already satisfied: tqdm>=4.41.1 in c:\\users\\mcotrina\\anaconda3\\lib\\site-packages (from instabot) (4.66.4)\n",
      "Requirement already satisfied: urllib3>=1.25.7 in c:\\users\\mcotrina\\anaconda3\\lib\\site-packages (from instabot) (2.2.2)\n",
      "Requirement already satisfied: mock>=3.0.5 in c:\\users\\mcotrina\\anaconda3\\lib\\site-packages (from instabot) (5.1.0)\n",
      "Requirement already satisfied: moviepy>=1.0.1 in c:\\users\\mcotrina\\anaconda3\\lib\\site-packages (from instabot) (1.0.3)\n",
      "Requirement already satisfied: Pillow>=6.2.2 in c:\\users\\mcotrina\\anaconda3\\lib\\site-packages (from instabot) (10.3.0)\n",
      "Requirement already satisfied: pytest>=4.6.9 in c:\\users\\mcotrina\\anaconda3\\lib\\site-packages (from instabot) (7.4.4)\n",
      "Requirement already satisfied: decorator<5.0,>=4.0.2 in c:\\users\\mcotrina\\anaconda3\\lib\\site-packages (from moviepy>=1.0.1->instabot) (4.4.2)\n",
      "Requirement already satisfied: proglog<=1.0.0 in c:\\users\\mcotrina\\anaconda3\\lib\\site-packages (from moviepy>=1.0.1->instabot) (0.1.10)\n",
      "Requirement already satisfied: numpy>=1.17.3 in c:\\users\\mcotrina\\anaconda3\\lib\\site-packages (from moviepy>=1.0.1->instabot) (1.26.4)\n",
      "Requirement already satisfied: imageio<3.0,>=2.5 in c:\\users\\mcotrina\\anaconda3\\lib\\site-packages (from moviepy>=1.0.1->instabot) (2.33.1)\n",
      "Requirement already satisfied: imageio-ffmpeg>=0.2.0 in c:\\users\\mcotrina\\anaconda3\\lib\\site-packages (from moviepy>=1.0.1->instabot) (0.5.1)\n",
      "Requirement already satisfied: iniconfig in c:\\users\\mcotrina\\anaconda3\\lib\\site-packages (from pytest>=4.6.9->instabot) (1.1.1)\n",
      "Requirement already satisfied: packaging in c:\\users\\mcotrina\\anaconda3\\lib\\site-packages (from pytest>=4.6.9->instabot) (23.2)\n",
      "Requirement already satisfied: pluggy<2.0,>=0.12 in c:\\users\\mcotrina\\anaconda3\\lib\\site-packages (from pytest>=4.6.9->instabot) (1.0.0)\n",
      "Requirement already satisfied: colorama in c:\\users\\mcotrina\\anaconda3\\lib\\site-packages (from pytest>=4.6.9->instabot) (0.4.6)\n",
      "Requirement already satisfied: charset-normalizer<4,>=2 in c:\\users\\mcotrina\\anaconda3\\lib\\site-packages (from requests>=2.22.0->instabot) (2.0.4)\n",
      "Requirement already satisfied: pyyaml in c:\\users\\mcotrina\\anaconda3\\lib\\site-packages (from responses>=0.10.9->instabot) (6.0.1)\n",
      "Requirement already satisfied: setuptools in c:\\users\\mcotrina\\anaconda3\\lib\\site-packages (from imageio-ffmpeg>=0.2.0->moviepy>=1.0.1->instabot) (69.5.1)\n",
      "Note: you may need to restart the kernel to use updated packages.\n"
     ]
    }
   ],
   "source": [
    "pip install instabot"
   ]
  },
  {
   "cell_type": "code",
   "execution_count": 326,
   "id": "24438e0c-2408-4389-b0f1-a2314a52ba29",
   "metadata": {},
   "outputs": [],
   "source": [
    "from instabot import Bot"
   ]
  },
  {
   "cell_type": "code",
   "execution_count": 328,
   "id": "fe9932c9-fa9d-4d37-9464-be7d061503e4",
   "metadata": {},
   "outputs": [
    {
     "name": "stderr",
     "output_type": "stream",
     "text": [
      "2024-09-25 17:18:44,492 - INFO - Instabot version: 0.117.0 Started\n",
      "2024-09-25 17:18:44,492 - INFO - Instabot version: 0.117.0 Started\n",
      "2024-09-25 17:18:44,492 - INFO - Instabot version: 0.117.0 Started\n",
      "2024-09-25 17:18:44,492 - INFO - Instabot version: 0.117.0 Started\n"
     ]
    }
   ],
   "source": [
    "acom_bot = Bot()"
   ]
  },
  {
   "cell_type": "code",
   "execution_count": 330,
   "id": "4b93377e-0763-4506-8eeb-7db740712ac1",
   "metadata": {},
   "outputs": [],
   "source": [
    "credenciales = {\n",
    "    'email': 'michel_cotrina',\n",
    "    'password': '06cerdaN:v'\n",
    "}"
   ]
  },
  {
   "cell_type": "code",
   "execution_count": null,
   "id": "e21a7966-0468-4163-a2ce-3c7f9611e9fe",
   "metadata": {},
   "outputs": [],
   "source": [
    "followings=mi_bot.get_user_following('agaveperu')\n",
    "print(followings)"
   ]
  }
 ],
 "metadata": {
  "kernelspec": {
   "display_name": "Python 3 (ipykernel)",
   "language": "python",
   "name": "python3"
  },
  "language_info": {
   "codemirror_mode": {
    "name": "ipython",
    "version": 3
   },
   "file_extension": ".py",
   "mimetype": "text/x-python",
   "name": "python",
   "nbconvert_exporter": "python",
   "pygments_lexer": "ipython3",
   "version": "3.12.4"
  }
 },
 "nbformat": 4,
 "nbformat_minor": 5
}
